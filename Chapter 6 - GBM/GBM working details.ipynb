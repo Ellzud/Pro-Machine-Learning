{
 "cells": [
  {
   "cell_type": "code",
   "execution_count": 27,
   "metadata": {
    "collapsed": true
   },
   "outputs": [],
   "source": [
    "import pandas as pd\n",
    "# importing dataset\n",
    "data=pd.read_csv('F:/course/Logistic regression/credit_training.csv')\n",
    "# removing irrelevant variables\n",
    "data=data.drop(['Unnamed: 0'],axis=1)\n",
    "# replacing nul values\n",
    "data['MonthlyIncome']=data['MonthlyIncome'].fillna(value=data['MonthlyIncome'].median())\n",
    "data['NumberOfDependents']=data['NumberOfDependents'].fillna(value=data['NumberOfDependents'].median())"
   ]
  },
  {
   "cell_type": "code",
   "execution_count": 28,
   "metadata": {
    "collapsed": true
   },
   "outputs": [],
   "source": [
    "from sklearn.model_selection import train_test_split\n",
    "# creating independent variables\n",
    "X = data.drop('SeriousDlqin2yrs',axis=1)\n",
    "# creating dependent variables\n",
    "y = data['SeriousDlqin2yrs']\n",
    "# creating train and test datasets\n",
    "X_train, X_test, y_train, y_test = train_test_split(X, y, test_size=0.30, random_state=42)"
   ]
  },
  {
   "cell_type": "code",
   "execution_count": 29,
   "metadata": {
    "collapsed": false
   },
   "outputs": [
    {
     "data": {
      "text/plain": [
       "DecisionTreeClassifier(class_weight=None, criterion='gini', max_depth=4,\n",
       "            max_features=None, max_leaf_nodes=None,\n",
       "            min_impurity_decrease=0.0, min_impurity_split=None,\n",
       "            min_samples_leaf=10, min_samples_split=2,\n",
       "            min_weight_fraction_leaf=0.0, presort=False, random_state=None,\n",
       "            splitter='best')"
      ]
     },
     "execution_count": 29,
     "metadata": {},
     "output_type": "execute_result"
    }
   ],
   "source": [
    "# Build a decision tree\n",
    "from sklearn.tree import DecisionTreeClassifier\n",
    "depth_tree = DecisionTreeClassifier(criterion = \"gini\",max_depth=4, min_samples_leaf=10)\n",
    "depth_tree.fit(X_train, y_train)"
   ]
  },
  {
   "cell_type": "code",
   "execution_count": 30,
   "metadata": {
    "collapsed": false
   },
   "outputs": [
    {
     "name": "stderr",
     "output_type": "stream",
     "text": [
      "C:\\Users\\Admin\\Anaconda2\\lib\\site-packages\\ipykernel\\__main__.py:3: SettingWithCopyWarning: \n",
      "A value is trying to be set on a copy of a slice from a DataFrame.\n",
      "Try using .loc[row_indexer,col_indexer] = value instead\n",
      "\n",
      "See the caveats in the documentation: http://pandas.pydata.org/pandas-docs/stable/indexing.html#indexing-view-versus-copy\n",
      "  app.launch_new_instance()\n",
      "C:\\Users\\Admin\\Anaconda2\\lib\\site-packages\\ipykernel\\__main__.py:4: SettingWithCopyWarning: \n",
      "A value is trying to be set on a copy of a slice from a DataFrame.\n",
      "Try using .loc[row_indexer,col_indexer] = value instead\n",
      "\n",
      "See the caveats in the documentation: http://pandas.pydata.org/pandas-docs/stable/indexing.html#indexing-view-versus-copy\n"
     ]
    }
   ],
   "source": [
    "#Get the predictions on top of train and test datasets\n",
    "dt_pred = depth_tree.predict_proba(X_train)\n",
    "X_train['prediction']=dt_pred[:,1]\n",
    "X_test['prediction']=depth_tree.predict_proba(X_test)[:,1]"
   ]
  },
  {
   "cell_type": "code",
   "execution_count": 31,
   "metadata": {
    "collapsed": false
   },
   "outputs": [
    {
     "name": "stderr",
     "output_type": "stream",
     "text": [
      "C:\\Users\\Admin\\Anaconda2\\lib\\site-packages\\ipykernel\\__main__.py:11: SettingWithCopyWarning: \n",
      "A value is trying to be set on a copy of a slice from a DataFrame.\n",
      "Try using .loc[row_indexer,col_indexer] = value instead\n",
      "\n",
      "See the caveats in the documentation: http://pandas.pydata.org/pandas-docs/stable/indexing.html#indexing-view-versus-copy\n",
      "C:\\Users\\Admin\\Anaconda2\\lib\\site-packages\\ipykernel\\__main__.py:15: SettingWithCopyWarning: \n",
      "A value is trying to be set on a copy of a slice from a DataFrame.\n",
      "Try using .loc[row_indexer,col_indexer] = value instead\n",
      "\n",
      "See the caveats in the documentation: http://pandas.pydata.org/pandas-docs/stable/indexing.html#indexing-view-versus-copy\n"
     ]
    },
    {
     "name": "stdout",
     "output_type": "stream",
     "text": [
      "AUC on training data set is: 0.839699519121197\n",
      "AUC on test data set is: 0.8361544558519592\n",
      "AUC on training data set is: 0.8586625234790326\n",
      "AUC on test data set is: 0.8523604970787321\n",
      "AUC on training data set is: 0.859239541443712\n",
      "AUC on test data set is: 0.8547952876386763\n",
      "AUC on training data set is: 0.8616456502192102\n",
      "AUC on test data set is: 0.8553887051228402\n",
      "AUC on training data set is: 0.8634253244893212\n",
      "AUC on test data set is: 0.8554829156138496\n",
      "AUC on training data set is: 0.8634472005434426\n",
      "AUC on test data set is: 0.8553985797750511\n",
      "AUC on training data set is: 0.8645031582626753\n",
      "AUC on test data set is: 0.8548247957987408\n",
      "AUC on training data set is: 0.864586044869167\n",
      "AUC on test data set is: 0.8549842716315977\n",
      "AUC on training data set is: 0.8646618478561868\n",
      "AUC on test data set is: 0.8541486875856495\n",
      "AUC on training data set is: 0.8645741755685504\n",
      "AUC on test data set is: 0.8540524806020783\n",
      "AUC on training data set is: 0.865004016813583\n",
      "AUC on test data set is: 0.8539861890630539\n",
      "AUC on training data set is: 0.8653790777299576\n",
      "AUC on test data set is: 0.853932715006277\n",
      "AUC on training data set is: 0.8661756951427164\n",
      "AUC on test data set is: 0.8541123035052021\n",
      "AUC on training data set is: 0.8666199376223047\n",
      "AUC on test data set is: 0.8534002863768931\n",
      "AUC on training data set is: 0.8666590771916662\n",
      "AUC on test data set is: 0.851693912135161\n",
      "AUC on training data set is: 0.8672020918993234\n",
      "AUC on test data set is: 0.8508051375343797\n",
      "AUC on training data set is: 0.8673711120730834\n",
      "AUC on test data set is: 0.8508701473251791\n",
      "AUC on training data set is: 0.86780076568696\n",
      "AUC on test data set is: 0.8503758237528309\n",
      "AUC on training data set is: 0.868185284227819\n",
      "AUC on test data set is: 0.8500016371239008\n",
      "AUC on training data set is: 0.8678008410292002\n",
      "AUC on test data set is: 0.8491104068372682\n"
     ]
    }
   ],
   "source": [
    "from sklearn.tree import DecisionTreeRegressor\n",
    "import numpy as np\n",
    "from sklearn.metrics import roc_auc_score\n",
    "depth_tree2 = DecisionTreeRegressor(criterion = \"mse\",max_depth=4, min_samples_leaf=10)\n",
    "for i in range(20):\n",
    "    # Calculate residual\n",
    "    train_errorn=y_train-X_train['prediction']\n",
    "    # remove prediction variable that got appended to independent variable earlier\n",
    "    X_train2=X_train.drop(['prediction'],axis=1)\n",
    "    X_test2=X_test.drop(['prediction'],axis=1)\n",
    "    # Build a decision tree to predict the residuals using independent variables\n",
    "    dt2=depth_tree2.fit(X_train2, train_errorn)\n",
    "    # predict the residual\n",
    "    dt_pred_train_errorn = dt2.predict(X_train2)\n",
    "    # update the predictions based on predicted residuals\n",
    "    X_train['prediction']=(X_train['prediction']+dt_pred_train_errorn)\n",
    "    # Calculate AUC\n",
    "    train_auc=roc_auc_score(y_train,X_train['prediction'])\n",
    "    print(\"AUC on training data set is: \"+str(train_auc))\n",
    "    # update the predictions based on predicted residuals for test dataset\n",
    "    dt_pred_test_errorn = dt2.predict(X_test2)\n",
    "    X_test['prediction']=(X_test['prediction']+dt_pred_test_errorn)\n",
    "    # Calculate AUC\n",
    "    test_auc=roc_auc_score(y_test,X_test['prediction'])\n",
    "    print(\"AUC on test data set is: \"+str(test_auc))"
   ]
  },
  {
   "cell_type": "code",
   "execution_count": 32,
   "metadata": {
    "collapsed": true
   },
   "outputs": [],
   "source": [
    "from sklearn.model_selection import train_test_split\n",
    "# creating independent variables\n",
    "X = data.drop('SeriousDlqin2yrs',axis=1)\n",
    "# creating dependent variables\n",
    "y = data['SeriousDlqin2yrs']\n",
    "# creating train and test datasets\n",
    "X_train, X_test, y_train, y_test = train_test_split(X, y, test_size=0.30, random_state=42)"
   ]
  },
  {
   "cell_type": "code",
   "execution_count": 33,
   "metadata": {
    "collapsed": false
   },
   "outputs": [
    {
     "data": {
      "text/plain": [
       "DecisionTreeClassifier(class_weight=None, criterion='gini', max_depth=4,\n",
       "            max_features=None, max_leaf_nodes=None,\n",
       "            min_impurity_decrease=0.0, min_impurity_split=None,\n",
       "            min_samples_leaf=10, min_samples_split=2,\n",
       "            min_weight_fraction_leaf=0.0, presort=False, random_state=None,\n",
       "            splitter='best')"
      ]
     },
     "execution_count": 33,
     "metadata": {},
     "output_type": "execute_result"
    }
   ],
   "source": [
    "from sklearn.tree import DecisionTreeClassifier\n",
    "depth_tree = DecisionTreeClassifier(criterion = \"gini\",max_depth=4, min_samples_leaf=10)\n",
    "depth_tree.fit(X_train, y_train)"
   ]
  },
  {
   "cell_type": "code",
   "execution_count": 34,
   "metadata": {
    "collapsed": false
   },
   "outputs": [
    {
     "name": "stderr",
     "output_type": "stream",
     "text": [
      "C:\\Users\\Admin\\Anaconda2\\lib\\site-packages\\ipykernel\\__main__.py:3: SettingWithCopyWarning: \n",
      "A value is trying to be set on a copy of a slice from a DataFrame.\n",
      "Try using .loc[row_indexer,col_indexer] = value instead\n",
      "\n",
      "See the caveats in the documentation: http://pandas.pydata.org/pandas-docs/stable/indexing.html#indexing-view-versus-copy\n",
      "  app.launch_new_instance()\n",
      "C:\\Users\\Admin\\Anaconda2\\lib\\site-packages\\ipykernel\\__main__.py:4: SettingWithCopyWarning: \n",
      "A value is trying to be set on a copy of a slice from a DataFrame.\n",
      "Try using .loc[row_indexer,col_indexer] = value instead\n",
      "\n",
      "See the caveats in the documentation: http://pandas.pydata.org/pandas-docs/stable/indexing.html#indexing-view-versus-copy\n"
     ]
    }
   ],
   "source": [
    "#Get the predictions on top of train and test datasets\n",
    "dt_pred = depth_tree.predict_proba(X_train)\n",
    "X_train['prediction']=dt_pred[:,1]\n",
    "X_test['prediction']=depth_tree.predict_proba(X_test)[:,1]"
   ]
  },
  {
   "cell_type": "code",
   "execution_count": 35,
   "metadata": {
    "collapsed": false
   },
   "outputs": [
    {
     "name": "stderr",
     "output_type": "stream",
     "text": [
      "C:\\Users\\Admin\\Anaconda2\\lib\\site-packages\\ipykernel\\__main__.py:17: SettingWithCopyWarning: \n",
      "A value is trying to be set on a copy of a slice from a DataFrame.\n",
      "Try using .loc[row_indexer,col_indexer] = value instead\n",
      "\n",
      "See the caveats in the documentation: http://pandas.pydata.org/pandas-docs/stable/indexing.html#indexing-view-versus-copy\n",
      "C:\\Users\\Admin\\Anaconda2\\lib\\site-packages\\ipykernel\\__main__.py:23: SettingWithCopyWarning: \n",
      "A value is trying to be set on a copy of a slice from a DataFrame.\n",
      "Try using .loc[row_indexer,col_indexer] = value instead\n",
      "\n",
      "See the caveats in the documentation: http://pandas.pydata.org/pandas-docs/stable/indexing.html#indexing-view-versus-copy\n"
     ]
    },
    {
     "name": "stdout",
     "output_type": "stream",
     "text": [
      "AUC on training data set is: 0.8382394922742068\n",
      "AUC on test data set is: 0.8356787555622283\n",
      "AUC on training data set is: 0.8385040087374744\n",
      "AUC on test data set is: 0.8357575890675261\n",
      "AUC on training data set is: 0.8480278097887316\n",
      "AUC on test data set is: 0.8460857645288756\n",
      "AUC on training data set is: 0.8496868393988753\n",
      "AUC on test data set is: 0.8478867246022187\n",
      "AUC on training data set is: 0.8497093449953693\n",
      "AUC on test data set is: 0.8478661207989802\n",
      "AUC on training data set is: 0.8512828010339343\n",
      "AUC on test data set is: 0.8494591222140943\n",
      "AUC on training data set is: 0.8512516904842711\n",
      "AUC on test data set is: 0.8495036879210602\n",
      "AUC on training data set is: 0.8520518808578845\n",
      "AUC on test data set is: 0.8497395615382894\n",
      "AUC on training data set is: 0.8541129337641852\n",
      "AUC on test data set is: 0.8513296600532186\n",
      "AUC on training data set is: 0.8542797487285286\n",
      "AUC on test data set is: 0.8514128339333461\n",
      "AUC on training data set is: 0.8549951993663185\n",
      "AUC on test data set is: 0.851978795651799\n",
      "AUC on training data set is: 0.8553932012704023\n",
      "AUC on test data set is: 0.8520720238684679\n",
      "AUC on training data set is: 0.855995500178906\n",
      "AUC on test data set is: 0.8522386471446962\n",
      "AUC on training data set is: 0.856017802930907\n",
      "AUC on test data set is: 0.8522609439736271\n",
      "AUC on training data set is: 0.8565968565849618\n",
      "AUC on test data set is: 0.8527603506160376\n",
      "AUC on training data set is: 0.8574450805345084\n",
      "AUC on test data set is: 0.853373046232379\n",
      "AUC on training data set is: 0.8578123283156812\n",
      "AUC on test data set is: 0.8537738261422333\n",
      "AUC on training data set is: 0.8584829916138697\n",
      "AUC on test data set is: 0.8541679497458865\n",
      "AUC on training data set is: 0.8584520933264793\n",
      "AUC on test data set is: 0.8541788505952742\n",
      "AUC on training data set is: 0.858575814702738\n",
      "AUC on test data set is: 0.8542092212401253\n"
     ]
    }
   ],
   "source": [
    "from sklearn.tree import DecisionTreeRegressor\n",
    "import numpy as np\n",
    "from sklearn.metrics import roc_auc_score\n",
    "depth_tree2 = DecisionTreeRegressor(criterion = \"mse\",max_depth=4, min_samples_leaf=10)\n",
    "learning_rate = 0.05\n",
    "for i in range(20):\n",
    "    # Calculate residual\n",
    "    train_errorn=y_train-X_train['prediction']\n",
    "    # remove prediction variable that got appended to independent variable earlier\n",
    "    X_train2=X_train.drop(['prediction'],axis=1)\n",
    "    X_test2=X_test.drop(['prediction'],axis=1)\n",
    "    # Build a decision tree to predict the residuals using independent variables\n",
    "    dt2=depth_tree2.fit(X_train2, train_errorn)\n",
    "    # predict the residual\n",
    "    dt_pred_train_errorn = dt2.predict(X_train2)\n",
    "    # update the predictions based on predicted residuals\n",
    "    X_train['prediction']=(X_train['prediction']+dt_pred_train_errorn*learning_rate)\n",
    "    # Calculate AUC\n",
    "    train_auc=roc_auc_score(y_train,X_train['prediction'])\n",
    "    print(\"AUC on training data set is: \"+str(train_auc))\n",
    "    # update the predictions based on predicted residuals for test dataset\n",
    "    dt_pred_test_errorn = dt2.predict(X_test2)\n",
    "    X_test['prediction']=(X_test['prediction']+dt_pred_test_errorn*learning_rate)\n",
    "    # Calculate AUC\n",
    "    test_auc=roc_auc_score(y_test,X_test['prediction'])\n",
    "    print(\"AUC on test data set is: \"+str(test_auc))"
   ]
  },
  {
   "cell_type": "code",
   "execution_count": null,
   "metadata": {
    "collapsed": true
   },
   "outputs": [],
   "source": []
  }
 ],
 "metadata": {
  "kernelspec": {
   "display_name": "Python 2",
   "language": "python",
   "name": "python2"
  },
  "language_info": {
   "codemirror_mode": {
    "name": "ipython",
    "version": 2
   },
   "file_extension": ".py",
   "mimetype": "text/x-python",
   "name": "python",
   "nbconvert_exporter": "python",
   "pygments_lexer": "ipython2",
   "version": "2.7.13"
  }
 },
 "nbformat": 4,
 "nbformat_minor": 0
}
