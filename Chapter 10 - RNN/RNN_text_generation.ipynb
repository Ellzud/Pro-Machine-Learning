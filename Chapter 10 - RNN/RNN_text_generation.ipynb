{
  "nbformat": 4,
  "nbformat_minor": 0,
  "metadata": {
    "colab": {
      "name": "RNN text generation.ipynb",
      "version": "0.3.2",
      "views": {},
      "default_view": {},
      "provenance": []
    },
    "kernelspec": {
      "name": "python3",
      "display_name": "Python 3"
    },
    "accelerator": "GPU"
  },
  "cells": [
    {
      "metadata": {
        "id": "PqKthXWR0jLR",
        "colab_type": "code",
        "colab": {
          "autoexec": {
            "startup": false,
            "wait_interval": 0
          },
          "resources": {
            "http://localhost:8080/nbextensions/google.colab/files.js": {
              "data": "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",
              "ok": true,
              "headers": [
                [
                  "content-type",
                  "application/javascript"
                ]
              ],
              "status": 200,
              "status_text": ""
            }
          },
          "base_uri": "https://localhost:8080/",
          "height": 72
        },
        "outputId": "14ac171b-b14d-4a46-afd2-c02605e3b907",
        "executionInfo": {
          "status": "ok",
          "timestamp": 1527864605052,
          "user_tz": -330,
          "elapsed": 12150,
          "user": {
            "displayName": "Kishore GCP",
            "photoUrl": "https://lh3.googleusercontent.com/a/default-user=s128",
            "userId": "114953301865800540346"
          }
        }
      },
      "cell_type": "code",
      "source": [
        "from google.colab import files\n",
        "\n",
        "uploaded = files.upload() "
      ],
      "execution_count": 1,
      "outputs": [
        {
          "output_type": "display_data",
          "data": {
            "text/html": [
              "\n",
              "     <input type=\"file\" id=\"files-8d966fcb-cfb2-4a45-90e5-452d48c3f010\" name=\"files[]\" multiple disabled />\n",
              "     <output id=\"result-8d966fcb-cfb2-4a45-90e5-452d48c3f010\">\n",
              "      Upload widget is only available when the cell has been executed in the\n",
              "      current browser session. Please rerun this cell to enable.\n",
              "      </output>\n",
              "      <script src=\"/nbextensions/google.colab/files.js\"></script> "
            ],
            "text/plain": [
              "<IPython.core.display.HTML object>"
            ]
          },
          "metadata": {
            "tags": []
          }
        },
        {
          "output_type": "stream",
          "text": [
            "Saving alice.txt to alice.txt\n"
          ],
          "name": "stdout"
        }
      ]
    },
    {
      "metadata": {
        "id": "DxPSj36y0tDB",
        "colab_type": "code",
        "colab": {
          "autoexec": {
            "startup": false,
            "wait_interval": 0
          },
          "base_uri": "https://localhost:8080/",
          "height": 34
        },
        "outputId": "486e07c1-8174-4bdd-8f6a-27208633014e",
        "executionInfo": {
          "status": "ok",
          "timestamp": 1527864617960,
          "user_tz": -330,
          "elapsed": 2112,
          "user": {
            "displayName": "Kishore GCP",
            "photoUrl": "https://lh3.googleusercontent.com/a/default-user=s128",
            "userId": "114953301865800540346"
          }
        }
      },
      "cell_type": "code",
      "source": [
        "!ls"
      ],
      "execution_count": 2,
      "outputs": [
        {
          "output_type": "stream",
          "text": [
            "alice.txt  datalab\r\n"
          ],
          "name": "stdout"
        }
      ]
    },
    {
      "metadata": {
        "id": "VsHqxqiK0-N0",
        "colab_type": "code",
        "colab": {
          "autoexec": {
            "startup": false,
            "wait_interval": 0
          },
          "base_uri": "https://localhost:8080/",
          "height": 119
        },
        "outputId": "07d819b6-b19d-43fb-c0a3-9d81e1d3a3ff",
        "executionInfo": {
          "status": "ok",
          "timestamp": 1527864645052,
          "user_tz": -330,
          "elapsed": 3134,
          "user": {
            "displayName": "Kishore GCP",
            "photoUrl": "https://lh3.googleusercontent.com/a/default-user=s128",
            "userId": "114953301865800540346"
          }
        }
      },
      "cell_type": "code",
      "source": [
        "!pip install keras"
      ],
      "execution_count": 3,
      "outputs": [
        {
          "output_type": "stream",
          "text": [
            "Requirement already satisfied: keras in /usr/local/lib/python3.6/dist-packages (2.1.6)\n",
            "Requirement already satisfied: h5py in /usr/local/lib/python3.6/dist-packages (from keras) (2.7.1)\n",
            "Requirement already satisfied: pyyaml in /usr/local/lib/python3.6/dist-packages (from keras) (3.12)\n",
            "Requirement already satisfied: six>=1.9.0 in /usr/local/lib/python3.6/dist-packages (from keras) (1.11.0)\n",
            "Requirement already satisfied: scipy>=0.14 in /usr/local/lib/python3.6/dist-packages (from keras) (0.19.1)\n",
            "Requirement already satisfied: numpy>=1.9.1 in /usr/local/lib/python3.6/dist-packages (from keras) (1.14.3)\n"
          ],
          "name": "stdout"
        }
      ]
    },
    {
      "metadata": {
        "id": "X3CeZ5xA1ElA",
        "colab_type": "code",
        "colab": {
          "autoexec": {
            "startup": false,
            "wait_interval": 0
          },
          "base_uri": "https://localhost:8080/",
          "height": 34
        },
        "outputId": "6b666f4d-8198-4146-8b5a-97b5ff25380c",
        "executionInfo": {
          "status": "ok",
          "timestamp": 1527864655270,
          "user_tz": -330,
          "elapsed": 8285,
          "user": {
            "displayName": "Kishore GCP",
            "photoUrl": "https://lh3.googleusercontent.com/a/default-user=s128",
            "userId": "114953301865800540346"
          }
        }
      },
      "cell_type": "code",
      "source": [
        "from keras.models import Sequential\n",
        "from keras.layers import Dense,Activation\n",
        "from keras.layers.recurrent import SimpleRNN\n",
        "import numpy as np"
      ],
      "execution_count": 4,
      "outputs": [
        {
          "output_type": "stream",
          "text": [
            "Using TensorFlow backend.\n"
          ],
          "name": "stderr"
        }
      ]
    },
    {
      "metadata": {
        "id": "osvlz83O1F0N",
        "colab_type": "code",
        "colab": {
          "autoexec": {
            "startup": false,
            "wait_interval": 0
          }
        }
      },
      "cell_type": "code",
      "source": [
        "fin=open('alice.txt',encoding='utf-8-sig')\n",
        "lines=[]\n",
        "for line in fin:\n",
        "  line = line.strip().lower()\n",
        "  #line = line.decode(\"ascii\",\"ignore\")\n",
        "  if(len(line)==0):\n",
        "    continue\n",
        "  lines.append(line)\n",
        "fin.close()\n",
        "text = \" \".join(lines)"
      ],
      "execution_count": 0,
      "outputs": []
    },
    {
      "metadata": {
        "id": "H2_gdsU-1Ixo",
        "colab_type": "code",
        "colab": {
          "autoexec": {
            "startup": false,
            "wait_interval": 0
          },
          "base_uri": "https://localhost:8080/",
          "height": 34
        },
        "outputId": "d35620d7-4ffe-4d79-8f2e-abb0b0de51d9",
        "executionInfo": {
          "status": "ok",
          "timestamp": 1527864668934,
          "user_tz": -330,
          "elapsed": 1075,
          "user": {
            "displayName": "Kishore GCP",
            "photoUrl": "https://lh3.googleusercontent.com/a/default-user=s128",
            "userId": "114953301865800540346"
          }
        }
      },
      "cell_type": "code",
      "source": [
        "text[:100]"
      ],
      "execution_count": 6,
      "outputs": [
        {
          "output_type": "execute_result",
          "data": {
            "text/plain": [
              "'alice was beginning to get very tired of sitting by her sister on the bank, and of having nothing to'"
            ]
          },
          "metadata": {
            "tags": []
          },
          "execution_count": 6
        }
      ]
    },
    {
      "metadata": {
        "id": "gHXoBDvL1K6V",
        "colab_type": "code",
        "colab": {
          "autoexec": {
            "startup": false,
            "wait_interval": 0
          }
        }
      },
      "cell_type": "code",
      "source": [
        "import re\n",
        "text = text.lower()\n",
        "text = re.sub('[^0-9a-zA-Z]+',' ',text)"
      ],
      "execution_count": 0,
      "outputs": []
    },
    {
      "metadata": {
        "id": "DxJOfWom1Mat",
        "colab_type": "code",
        "colab": {
          "autoexec": {
            "startup": false,
            "wait_interval": 0
          }
        }
      },
      "cell_type": "code",
      "source": [
        "from collections import Counter\n",
        "counts = Counter()\n",
        "counts.update(text.split())\n",
        "words = sorted(counts, key=counts.get, reverse=True)\n",
        "chars = words\n",
        "nb_chars = len(text.split())\n",
        "char2index = {word: i for i, word in enumerate(chars)}\n",
        "index2char = {i: word for i, word in enumerate(chars)}"
      ],
      "execution_count": 0,
      "outputs": []
    },
    {
      "metadata": {
        "id": "YbQYWOas1N57",
        "colab_type": "code",
        "colab": {
          "autoexec": {
            "startup": false,
            "wait_interval": 0
          },
          "base_uri": "https://localhost:8080/",
          "height": 51
        },
        "outputId": "14bd8773-3efe-479d-8d59-533912f67631",
        "executionInfo": {
          "status": "ok",
          "timestamp": 1527864687081,
          "user_tz": -330,
          "elapsed": 1092,
          "user": {
            "displayName": "Kishore GCP",
            "photoUrl": "https://lh3.googleusercontent.com/a/default-user=s128",
            "userId": "114953301865800540346"
          }
        }
      },
      "cell_type": "code",
      "source": [
        "SEQLEN = 10\n",
        "STEP = 1\n",
        "input_chars = []\n",
        "label_chars = []\n",
        "text2=text.split()\n",
        "for i in range(0,nb_chars-SEQLEN,STEP):\n",
        "    x=text2[i:(i+SEQLEN)]\n",
        "    y=text2[i+SEQLEN]\n",
        "    input_chars.append(x)\n",
        "    label_chars.append(y)\n",
        "print(input_chars[0])\n",
        "print(label_chars[0])"
      ],
      "execution_count": 9,
      "outputs": [
        {
          "output_type": "stream",
          "text": [
            "['alice', 'was', 'beginning', 'to', 'get', 'very', 'tired', 'of', 'sitting', 'by']\n",
            "her\n"
          ],
          "name": "stdout"
        }
      ]
    },
    {
      "metadata": {
        "id": "TPu4sHX11PVM",
        "colab_type": "code",
        "colab": {
          "autoexec": {
            "startup": false,
            "wait_interval": 0
          },
          "base_uri": "https://localhost:8080/",
          "height": 34
        },
        "outputId": "6493f97d-2933-4f7d-fa5d-f32652e1f3bc",
        "executionInfo": {
          "status": "ok",
          "timestamp": 1527864694477,
          "user_tz": -330,
          "elapsed": 1724,
          "user": {
            "displayName": "Kishore GCP",
            "photoUrl": "https://lh3.googleusercontent.com/a/default-user=s128",
            "userId": "114953301865800540346"
          }
        }
      },
      "cell_type": "code",
      "source": [
        "total_chars = len(set(chars))\n",
        "total_chars"
      ],
      "execution_count": 10,
      "outputs": [
        {
          "output_type": "execute_result",
          "data": {
            "text/plain": [
              "3028"
            ]
          },
          "metadata": {
            "tags": []
          },
          "execution_count": 10
        }
      ]
    },
    {
      "metadata": {
        "id": "Bkt3HHKx1Q_Q",
        "colab_type": "code",
        "colab": {
          "autoexec": {
            "startup": false,
            "wait_interval": 0
          },
          "base_uri": "https://localhost:8080/",
          "height": 51
        },
        "outputId": "b6372957-f06d-44b6-e1a7-1baf95e912cc",
        "executionInfo": {
          "status": "ok",
          "timestamp": 1527864700377,
          "user_tz": -330,
          "elapsed": 1627,
          "user": {
            "displayName": "Kishore GCP",
            "photoUrl": "https://lh3.googleusercontent.com/a/default-user=s128",
            "userId": "114953301865800540346"
          }
        }
      },
      "cell_type": "code",
      "source": [
        "X = np.zeros((len(input_chars), SEQLEN, total_chars), dtype=np.bool)\n",
        "y = np.zeros((len(input_chars), total_chars), dtype=np.bool)\n",
        "# Create encoded vectors for the input and output values\n",
        "for i, input_char in enumerate(input_chars):\n",
        "    for j, ch in enumerate(input_char):\n",
        "        X[i, j, char2index[ch]] = 1\n",
        "    y[i,char2index[label_chars[i]]]=1\n",
        "print(X.shape)\n",
        "print(y.shape)"
      ],
      "execution_count": 11,
      "outputs": [
        {
          "output_type": "stream",
          "text": [
            "(30407, 10, 3028)\n",
            "(30407, 3028)\n"
          ],
          "name": "stdout"
        }
      ]
    },
    {
      "metadata": {
        "id": "TF_3YL7i1Scu",
        "colab_type": "code",
        "colab": {
          "autoexec": {
            "startup": false,
            "wait_interval": 0
          }
        }
      },
      "cell_type": "code",
      "source": [
        "HIDDEN_SIZE = 128\n",
        "BATCH_SIZE = 1024\n",
        "NUM_ITERATIONS = 100\n",
        "NUM_EPOCHS_PER_ITERATION = 1\n",
        "NUM_PREDS_PER_EPOCH = 100"
      ],
      "execution_count": 0,
      "outputs": []
    },
    {
      "metadata": {
        "id": "Z9UMphCo1UX2",
        "colab_type": "code",
        "colab": {
          "autoexec": {
            "startup": false,
            "wait_interval": 0
          },
          "base_uri": "https://localhost:8080/",
          "height": 204
        },
        "outputId": "e5d63bcc-7915-45ce-b6bb-1c289a74e261",
        "executionInfo": {
          "status": "ok",
          "timestamp": 1527864714104,
          "user_tz": -330,
          "elapsed": 1069,
          "user": {
            "displayName": "Kishore GCP",
            "photoUrl": "https://lh3.googleusercontent.com/a/default-user=s128",
            "userId": "114953301865800540346"
          }
        }
      },
      "cell_type": "code",
      "source": [
        "model = Sequential()\n",
        "model.add(SimpleRNN(HIDDEN_SIZE,return_sequences=False,input_shape=(SEQLEN,total_chars),unroll=True))\n",
        "model.add(Dense(total_chars, activation='sigmoid'))\n",
        "model.compile(optimizer='rmsprop', loss='categorical_crossentropy')\n",
        "model.summary()"
      ],
      "execution_count": 13,
      "outputs": [
        {
          "output_type": "stream",
          "text": [
            "_________________________________________________________________\n",
            "Layer (type)                 Output Shape              Param #   \n",
            "=================================================================\n",
            "simple_rnn_1 (SimpleRNN)     (None, 128)               404096    \n",
            "_________________________________________________________________\n",
            "dense_1 (Dense)              (None, 3028)              390612    \n",
            "=================================================================\n",
            "Total params: 794,708\n",
            "Trainable params: 794,708\n",
            "Non-trainable params: 0\n",
            "_________________________________________________________________\n"
          ],
          "name": "stdout"
        }
      ]
    },
    {
      "metadata": {
        "id": "GTwghGjB1V8P",
        "colab_type": "code",
        "colab": {
          "autoexec": {
            "startup": false,
            "wait_interval": 0
          },
          "base_uri": "https://localhost:8080/",
          "height": 5154
        },
        "outputId": "59efd359-aa69-48b6-a957-6501cbde58f0",
        "executionInfo": {
          "status": "ok",
          "timestamp": 1527865537012,
          "user_tz": -330,
          "elapsed": 162733,
          "user": {
            "displayName": "Kishore GCP",
            "photoUrl": "https://lh3.googleusercontent.com/a/default-user=s128",
            "userId": "114953301865800540346"
          }
        }
      },
      "cell_type": "code",
      "source": [
        "for iteration in range(50):\n",
        "    print(\"=\" * 50)\n",
        "    print(\"Iteration #: %d\" % (iteration))\n",
        "    # Fitting the values\n",
        "    model.fit(X, y, batch_size=BATCH_SIZE, epochs=NUM_EPOCHS_PER_ITERATION)\n",
        "\n",
        "    # Time to see how our predictions fare\n",
        "    # We are creating a test set from a random location in our dataset\n",
        "    # In the code below, we are selecting a random input as our seed value of words\n",
        "    test_idx = np.random.randint(len(input_chars))\n",
        "    test_chars = input_chars[test_idx]\n",
        "    print(\"Generating from seed: %s\" % (test_chars))\n",
        "    print(test_chars)\n",
        "    # From the seed words, we are tasked to predict the next words\n",
        "    # In the code below, we are predicting the next 100 words (NUM_PREDS_PER_EPOCH) after the seed words\n",
        "    for i in range(NUM_PREDS_PER_EPOCH):\n",
        "        # Pre processing the input data, just like the way we did before training the model\n",
        "        Xtest = np.zeros((1, SEQLEN, total_chars))\n",
        "        for i, ch in enumerate(test_chars):\n",
        "            Xtest[0, i, char2index[ch]] = 1\n",
        "        # Predict the next word\n",
        "        pred = model.predict(Xtest, verbose=0)[0]\n",
        "        # Given that, the predictions are probability values, we take the argmax to fetch the location of highest probability\n",
        "        # Extract the word belonging to argmax\n",
        "        ypred = index2char[np.argmax(pred)]\n",
        "        print(ypred,end=' ')\n",
        "        # move forward with test_chars + ypred so that we use the original 9 words + prediction for the next prediction\n",
        "        test_chars = test_chars[1:] + [ypred]"
      ],
      "execution_count": 17,
      "outputs": [
        {
          "output_type": "stream",
          "text": [
            "==================================================\n",
            "Iteration #: 0\n",
            "Epoch 1/1\n",
            "30407/30407 [==============================] - 3s 98us/step - loss: 2.4069\n",
            "Generating from seed: ['what', 'to', 'say', 'to', 'this', 'so', 'she', 'helped', 'herself', 'to']\n",
            "['what', 'to', 'say', 'to', 'this', 'so', 'she', 'helped', 'herself', 'to']\n",
            "the house and yet and butter and then out at the queen and the mock turtle thought alice thought alice she herself to herself as well as she was quite at all but the hatter i ll have to go to see it she was ready to be to you like you i m sure you know you mean like you i don t you know you said the king but said to be like at the cat the little said alice king and alice for quite for it very all oh down and i can the thing of you ==================================================\n",
            "Iteration #: 1\n",
            "Epoch 1/1\n",
            "30407/30407 [==============================] - 3s 97us/step - loss: 2.3729\n",
            "Generating from seed: ['no', 'longer', 'to', 'be', 'seen', 'she', 'found', 'herself', 'in', 'a']\n",
            "['no', 'longer', 'to', 'be', 'seen', 'she', 'found', 'herself', 'in', 'a']\n",
            "long tone shouted she was a very fan of this and she was going into her head she who was no round to look it and looked at to one as well she thought to herself out of the time she had just as down and looked at her and she was no much into and this she was sitting on the house and she had been first found the queen out of the next on her hand in a glass and she thought what was then the cat and that s the curious of that she said the dormouse ==================================================\n",
            "Iteration #: 2\n",
            "Epoch 1/1\n",
            "28672/30407 [===========================>..] - ETA: 0s - loss: 2.3217"
          ],
          "name": "stdout"
        },
        {
          "output_type": "stream",
          "text": [
            "30407/30407 [==============================] - 3s 97us/step - loss: 2.3245\n",
            "Generating from seed: ['m', 'growing', 'you', 've', 'no', 'right', 'to', 'grow', 'here', 'said']\n",
            "['m', 'growing', 'you', 've', 'no', 'right', 'to', 'grow', 'here', 'said']\n",
            "the cook she said to alice said alice alice as she could it at last she she as to herself out i m not know but i know what i ll have you said alice and she added to say it s not a little girl it i don t like it said alice nothing to herself it said the hatter i can t be join the dance i can be no for the dance will you do not agree will you d to the other you received 1 e of do not cried you or any the project gutenberg ==================================================\n",
            "Iteration #: 3\n",
            "Epoch 1/1\n",
            "30407/30407 [==============================] - 3s 97us/step - loss: 2.3037\n",
            "Generating from seed: ['hastily', 'replied', 'at', 'least', 'at', 'least', 'i', 'mean', 'what', 'i']\n",
            "['hastily', 'replied', 'at', 'least', 'at', 'least', 'i', 'mean', 'what', 'i']\n",
            "wonder what i ve heard to be time she said alice as she s been enough that i can t talk said the hatter and said alice nothing in a great way of here and no more get their off and began to herself what she had not it down to the hatter after in the garden they the king but you said to herself it s poor the cat said the caterpillar the king of speak going to be as she was to herself as alice as well she waited the mock turtle on them that if i went ==================================================\n",
            "Iteration #: 4\n",
            "Epoch 1/1\n",
            "30407/30407 [==============================] - 3s 98us/step - loss: 2.2603\n",
            "Generating from seed: ['little', 'thing', 'howled', 'so', 'that', 'alice', 'could', 'hardly', 'hear', 'the']\n",
            "['little', 'thing', 'howled', 'so', 'that', 'alice', 'could', 'hardly', 'hear', 'the']\n",
            "time i speak sure to herself for a little way of the mouse the voice of first while and her left and looked at again as she went on over much into the poor little as she was up to her as she had been as she went on over over such as soon right out i m to see me and it had to herself in a minute or two of her head and the eyes at once thought she "
          ],
          "name": "stdout"
        },
        {
          "output_type": "stream",
          "text": [
            "was she had been about round her head out and that there was very long again now it as ==================================================\n",
            "Iteration #: 5\n",
            "Epoch 1/1\n",
            "30407/30407 [==============================] - 3s 98us/step - loss: 2.2295\n",
            "Generating from seed: ['that', 'only', 'the', 'march', 'hare', 'said', 'i', 'didn', 't', 'the']\n",
            "['that', 'only', 'the', 'march', 'hare', 'said', 'i', 'didn', 't', 'the']\n",
            "mouse s the way alice said alice said the king was a a here of the queen and then would be like the duchess she felt to get her way after the she was going on the rabbit came began in the distance and seemed to herself what for meaning to the hatter went on in a little little went on in a great hurry who thought it all as well as that she had quite to her again and she soon was back on again before as she was very over to herself it i don t know what ==================================================\n",
            "Iteration #: 6\n",
            "Epoch 1/1\n",
            "30407/30407 [==============================] - 3s 98us/step - loss: 2.1894\n",
            "Generating from seed: ['she', 'heard', 'a', 'little', 'shriek', 'and', 'a', 'fall', 'and', 'a']\n",
            "['she', 'heard', 'a', 'little', 'shriek', 'and', 'a', 'fall', 'and', 'a']\n",
            "use in the glass from below and in a little but she was so to down to be no sort i think tell a little yet said alice nothing to be as it could be a the same thing said the hatter alice said the mock turtle said the caterpillar said alice alice as you have no more to see this she was not so much again that she had been the mock turtle the garden at of the garden she was this herself the out of a very hurry take a day of the trial said the gryphon alice ==================================================\n",
            "Iteration #: 7\n",
            "Epoch 1/1\n",
            "23552/30407 [======================>.......] - ETA: 0s - loss: 2.1327"
          ],
          "name": "stdout"
        },
        {
          "output_type": "stream",
          "text": [
            "30407/30407 [==============================] - 3s 96us/step - loss: 2.1563\n",
            "Generating from seed: ['do', 'such', 'a', 'thing', 'before', 'and', 'he', 'wasn', 't', 'going']\n",
            "['do', 'such', 'a', 'thing', 'before', 'and', 'he', 'wasn', 't', 'going']\n",
            "to look at the words and tried she had looking at into and in a little of of the duchess and this back again that she came upon out to the game said the march hare he thought alice in a little thing the queen was lying at all about it she looked at the or went on but she had on her time was a curious as she was up to see and she felt that to get to do it i m do you re all them of the way said the gryphon s made to look again ==================================================\n",
            "Iteration #: 8\n",
            "Epoch 1/1\n",
            "30407/30407 [==============================] - 3s 96us/step - loss: 2.1140\n",
            "Generating from seed: ['up', 'said', 'the', 'queen', 'in', 'a', 'shrill', 'loud', 'voice', 'and']\n",
            "['up', 'said', 'the', 'queen', 'in', 'a', 'shrill', 'loud', 'voice', 'and']\n",
            "the king gardeners instantly was up and was herself and then added the and ran still what was was going on a little rabbit she took the first box and was that the first and was his over his voice it his two said alice was quite like the look so she was a large mock turtle and it said to herself as she had been quite pleased and one came to herself that the hatter thing the his were so of them thought and then that was quite begun to see it was the moment i ve said it ==================================================\n",
            "Iteration #: 9\n",
            "Epoch 1/1\n",
            "30407/30407 [==============================] - 3s 96us/step - loss: 2.0864\n",
            "Generating from seed: ['i', 'shall', 'be', 'a', 'great', 'deal', 'too', 'far', 'off', 'to']\n",
            "['i', 'shall', 'be', 'a', 'great', 'deal', 'too', 'far', 'off', 'to']\n",
            "the refund of that she had been get back for this agreement for this time little works and looked of project gutenberg tm electronic works and forth in the phrase project gutenberg tm donations to work is located with a 1 c or donations from project gutenberg tm work or you may you can do you join or 1 or you do not said alice i won t well i am i know what i can go dinah here said the gryphon not here i do tell you do you like the duchess said alice i m you to do ==================================================\n",
            "Iteration #: 10\n",
            "Epoch 1/1\n",
            " 1024/30407 [>.............................] - ETA: 2s - loss: 2.0286"
          ],
          "name": "stdout"
        },
        {
          "output_type": "stream",
          "text": [
            "30407/30407 [==============================] - 3s 97us/step - loss: 2.0584\n",
            "Generating from seed: ['see', 'anything', 'that', 'looked', 'like', 'the', 'right', 'thing', 'to', 'eat']\n",
            "['see', 'anything', 'that', 'looked', 'like', 'the', 'right', 'thing', 'to', 'eat']\n",
            "and when she was in her hands but alice thought alice could herself to herself she was this for i wonder you know not about the right of your majesty she was not to herself and should herself said said the mock turtle who made what you alice said the gryphon i ve got to me at alice said alice as she said the caterpillar all in her hands all at last she was no to get down it ll be thought alice as she s sure about all it for be as well as it s no like all ==================================================\n",
            "Iteration #: 11\n",
            "Epoch 1/1\n",
            "30407/30407 [==============================] - 3s 97us/step - loss: 2.0082\n",
            "Generating from seed: ['the', 'time', 'she', 'went', 'on', 'talking', 'dear', 'dear', 'how', 'queer']\n",
            "['the', 'time', 'she', 'went', 'on', 'talking', 'dear', 'dear', 'how', 'queer']\n",
            "some about to day and your things say to herself it they high it s no creatures two but to herself alice off to be for them all time poor some go on far for the mouse s getting up i m so thing to me i m afraid i d have cried i can t be said the cat only poor me said alice she went on her she thought it was to herself for when she said it as she could been her small now i never what it more for one said the dodo she said the ==================================================\n",
            "Iteration #: 12\n",
            "Epoch 1/1\n",
            "30407/30407 [==============================] - 3s 97us/step - loss: 1.9836\n",
            "Generating from seed: ['a', 'sigh', 'i', 'only', 'took', 'the', 'regular', 'course', 'what', 'was']\n",
            "['a', 'sigh', 'i', 'only', 'took', 'the', 'regular', 'course', 'what', 'was']\n",
            "that well alice now in her of them of the rabbit s no the queen and looking talking close on and an feet for to it was all looking for it s hardly a the deal of the court then not quite for her eyes with and head them at all the rabbit was no at once head down and found it she made out of the time as the queen was going"
          ],
          "name": "stdout"
        },
        {
          "output_type": "stream",
          "text": [
            " to look up and very curious to say it the the door close in a low all the puppy and was at of them out her mouth ==================================================\n",
            "Iteration #: 13\n",
            "Epoch 1/1\n",
            "30407/30407 [==============================] - 3s 97us/step - loss: 1.9491\n",
            "Generating from seed: ['the', 'status', 'of', 'compliance', 'for', 'any', 'particular', 'state', 'visit', 'http']\n",
            "['the', 'status', 'of', 'compliance', 'for', 'any', 'particular', 'state', 'visit', 'http']\n",
            "pglaf org about the trademark and by not project gutenberg tm on will you may with a constant 1 e such and the roof of the eyes came a low door but the door was their very so and began never looked the same and she got to hear down her head still she was his eyes to course the gryphon s a large day i gave t do a most way alice said the gryphon oh a now the hatter went did you a good way tree but it s enough to the rabbit s saying the a little ==================================================\n",
            "Iteration #: 14\n",
            "Epoch 1/1\n",
            "30407/30407 [==============================] - 3s 98us/step - loss: 1.9160\n",
            "Generating from seed: ['the', 'agreement', 'shall', 'be', 'interpreted', 'to', 'make', 'the', 'maximum', 'disclaimer']\n",
            "['the', 'agreement', 'shall', 'be', 'interpreted', 'to', 'make', 'the', 'maximum', 'disclaimer']\n",
            "or limitation permitted by the applicable gardeners fees the distant of this other queen was a little about come to her eyes very scream and she was no such the queen as if the dormouse came running at last one of her was in a little door out thought alice why she had been a use and then a time as alice as she could to herself larger i m such i ve seen so she went on over a the door of over and were as the dormouse their over to speak what the dormouse idea of this time ==================================================\n",
            "Iteration #: 15\n",
            "Epoch 1/1\n",
            "24576/30407 [=======================>......] - ETA: 0s - loss: 1.8597"
          ],
          "name": "stdout"
        },
        {
          "output_type": "stream",
          "text": [
            "30407/30407 [==============================] - 3s 97us/step - loss: 1.8791\n",
            "Generating from seed: ['position', 'in', 'dancing', 'alice', 'said', 'but', 'was', 'dreadfully', 'puzzled', 'by']\n",
            "['position', 'in', 'dancing', 'alice', 'said', 'but', 'was', 'dreadfully', 'puzzled', 'by']\n",
            "the whole thing and who was up the mock turtle is that would be not any this is is the room do how would any things to be this she was just like to come up to a little said she thought alice nothing on a very tone tone the hatter and of course and she was the cat as out was the mock turtle that it was of her flamingo she had it herself to the rabbit who very off to see and went back to the very do went on her head the history was that s all ==================================================\n",
            "Iteration #: 16\n",
            "Epoch 1/1\n",
            "30407/30407 [==============================] - 3s 97us/step - loss: 1.8542\n",
            "Generating from seed: ['to', 'day', 'i', 'should', 'like', 'it', 'very', 'much', 'said', 'alice']\n",
            "['to', 'day', 'i', 'should', 'like', 'it', 'very', 'much', 'said', 'alice']\n",
            "had just as she was going to herself out of the poor was come for his head and she was back to make a thing as she had to them in a moment as she was very anxiously to her her again she was as she went on to the way of the house and the gryphon would not out her things all off sure with the little pigs and she thought to herself again the right of the way and it out to be one they quite for i ve now i tell you know said the mock turtle ==================================================\n",
            "Iteration #: 17\n",
            "Epoch 1/1\n",
            "30407/30407 [==============================] - 3s 97us/step - loss: 1.8170\n",
            "Generating from seed: ['at', 'all', 'the', 'right', 'word', 'but', 'i', 'shall', 'have', 'to']\n",
            "['at', 'all', 'the', 'right', 'word', 'but', 'i', 'shall', 'have', 'to']\n",
            "ask out of the life and then if i don t know there s a voice if i d t you do you can say i ve tried said the and added said the knave little tone of his sort of getting a long as she said it looked as very as the queen of in the great side little thought just those of their children and there the dormouse been on growing "
          ],
          "name": "stdout"
        },
        {
          "output_type": "stream",
          "text": [
            "quite that to be what i wonder what i don t know if you mean t talk about i m not said the duchess s a well ==================================================\n",
            "Iteration #: 18\n",
            "Epoch 1/1\n",
            "30407/30407 [==============================] - 3s 97us/step - loss: 1.7824\n",
            "Generating from seed: ['the', 'caterpillar', 'i', 'm', 'afraid', 'i', 'can', 't', 'put', 'it']\n",
            "['the', 'caterpillar', 'i', 'm', 'afraid', 'i', 'can', 't', 'put', 'it']\n",
            "again why i m mad said alice i don t i do you do you know you mean said alice and she said the queen a little footman was quite at once in a large written in a from and all about to any other you not getting like it said as it s good or any way of the air and said the roof as out the three at of time alice but to get them it to the i was off them at this time that and said to him and was out they all the heads and ==================================================\n",
            "Iteration #: 19\n",
            "Epoch 1/1\n",
            "30407/30407 [==============================] - 3s 97us/step - loss: 1.7576\n",
            "Generating from seed: ['young', 'lady', 'to', 'see', 'the', 'mock', 'turtle', 'and', 'to', 'hear']\n",
            "['young', 'lady', 'to', 'see', 'the', 'mock', 'turtle', 'and', 'to', 'hear']\n",
            "his history and she had been to her out to the knave was no curiosity which had to up the off and was going on the and was no of hearts about and made some time to had a when the a voice the all was up and and began the white of hearts of the project gutenberg tm a foundation is back to the its of this or this if the three of silent and that large could to you there was a little tone now it said the hatter but she was a good deal again as it ==================================================\n",
            "Iteration #: 20\n",
            "Epoch 1/1\n",
            "25600/30407 [========================>.....] - ETA: 0s - loss: 1.7150"
          ],
          "name": "stdout"
        },
        {
          "output_type": "stream",
          "text": [
            "30407/30407 [==============================] - 3s 98us/step - loss: 1.7220\n",
            "Generating from seed: ['sobs', 'to', 'sing', 'this', 'beautiful', 'soup', 'so', 'rich', 'and', 'green']\n",
            "['sobs', 'to', 'sing', 'this', 'beautiful', 'soup', 'so', 'rich', 'and', 'green']\n",
            "waiting in a hot tureen who for such dainties would not stoop soup of the evening beautiful soup soup of the evening beautiful soup beau ootiful soo oop beau ootiful soo oop soo oop of the e e evening beautiful beautiful soup beautiful soup who cares for fish game or any other birds who would not then all curious half of by the and looking over and then she was much glad down her and when she knew back about to herself before she had thinking like the little little thing and all up come how she was his use ==================================================\n",
            "Iteration #: 21\n",
            "Epoch 1/1\n",
            "30407/30407 [==============================] - 3s 97us/step - loss: 1.6886\n",
            "Generating from seed: ['to', 'come', 'once', 'a', 'week', 'he', 'taught', 'us', 'drawling', 'stretching']\n",
            "['to', 'come', 'once', 'a', 'week', 'he', 'taught', 'us', 'drawling', 'stretching']\n",
            "and means to wish what was that the things went come out it the don t the little way at alice why more one said nothing going on to them that she was very ready s getting than asked oh as it as soon as she had never out of sight way the queen and that sat she as her a out one of this the rabbit she had her to them and then still at first she seen that then the king up speak to find that i m not to get her as it she said to be ==================================================\n",
            "Iteration #: 22\n",
            "Epoch 1/1\n",
            "30407/30407 [==============================] - 3s 97us/step - loss: 1.6569\n",
            "Generating from seed: ['size', 'alice', 'hastily', 'replied', 'only', 'one', 'doesn', 't', 'like', 'changing']\n",
            "['size', 'alice', 'hastily', 'replied', 'only', 'one', 'doesn', 't', 'like', 'changing']\n",
            "said at alice said alice very politely "
          ],
          "name": "stdout"
        },
        {
          "output_type": "stream",
          "text": [
            "to get again to the same thing bill gave you all old little it is said the dormouse word for the way at the duchess rather alice time to herself and then still as to get out of that i m not to do what this there i m afraid i ve said alice said alice herself as the queen and she to herself again and stop them at all thought the duchess and this up the queen and then she looked to her as she felt that she had never left to ==================================================\n",
            "Iteration #: 23\n",
            "Epoch 1/1\n",
            "30407/30407 [==============================] - 3s 97us/step - loss: 1.6269\n",
            "Generating from seed: ['set', 'of', 'verses', 'are', 'they', 'in', 'the', 'prisoner', 's', 'handwriting']\n",
            "['set', 'of', 'verses', 'are', 'they', 'in', 'the', 'prisoner', 's', 'handwriting']\n",
            "set as of the jurymen and had walked more things on tears for that when then did rather to me that sort of this moment she got it was to herself the when she had got up the words down after their so she she heard it and then she and she had back again you the little thing and she was in a little other 1 e all but the other all made of any project gutenberg the trademark or this with a paragraph 1 e 3 1 e project gutenberg tm electronic works or at once or if ==================================================\n",
            "Iteration #: 24\n",
            "Epoch 1/1\n",
            "30407/30407 [==============================] - 3s 97us/step - loss: 1.5998\n",
            "Generating from seed: ['the', 'dodo', 'solemnly', 'presented', 'the', 'thimble', 'saying', 'we', 'beg', 'your']\n",
            "['the', 'dodo', 'solemnly', 'presented', 'the', 'thimble', 'saying', 'we', 'beg', 'your']\n",
            "acceptance of this elegant day and if it had been this hot how are it was the before to the time she off with the mock turtle went back again like the hatter had come so the duchess i never i think of the little on now and up and as to go on one time the queen as she was that at the time all to be with know but it she had not to ask to you see i suppose that i like you said alice as it s oh grow going to say it s do i ==================================================\n",
            "Iteration #: 25\n",
            "Epoch 1/1\n",
            " 9216/30407 [========>.....................] - ETA: 2s - loss: 1.5128"
          ],
          "name": "stdout"
        },
        {
          "output_type": "stream",
          "text": [
            "30407/30407 [==============================] - 3s 97us/step - loss: 1.5635\n",
            "Generating from seed: ['charges', 'at', 'the', 'stick', 'running', 'a', 'very', 'little', 'way', 'forwards']\n",
            "['charges', 'at', 'the', 'stick', 'running', 'a', 'very', 'little', 'way', 'forwards']\n",
            "each time and a long eyes back and three hoarsely all the rabbit was of of them her it a no away what was for and then was so looking as the she had to them that the queen and were having head were and talking she was gone much them that had a little nervous but the sea and more creatures so she went on it in a little deal of the were in a large full two or using a little or 1 work the queen all what in the project gutenberg tm license for the project gutenberg ==================================================\n",
            "Iteration #: 26\n",
            "Epoch 1/1\n",
            "30407/30407 [==============================] - 3s 97us/step - loss: 1.5372\n",
            "Generating from seed: ['were', 'nearly', 'out', 'of', 'sight', 'he', 'said', 'in', 'a', 'deep']\n",
            "['were', 'nearly', 'out', 'of', 'sight', 'he', 'said', 'in', 'a', 'deep']\n",
            "tone as she put made out foot that then the very well i ve got to leave how i m sure if alice said the gryphon i wonder alice why to herself to say what our or come on it to this down i don t see the march hare interrupted to herself i do so much did not right mad of me the cat like it i shall tell so she said alice i don t know that i don t like that you said the mock turtle said alice i ve forgotten the march hare went off to ==================================================\n",
            "Iteration #: 27\n",
            "Epoch 1/1\n",
            "30407/30407 [==============================] - 3s 97us/step - loss: 1.5077\n",
            "Generating from seed: ['hasn', 't', 'one', 'alice', 'ventured', 'to', 'remark', 'tut', 'tut', 'child']\n",
            "['hasn', 't', 'one', 'alice', 'ventured', 'to', 'remark', 'tut', 'tut', 'child']\n",
            "said the king well s got "
          ],
          "name": "stdout"
        },
        {
          "output_type": "stream",
          "text": [
            "a moral of only a dormouse added to find it to herself i should think see you can t be of here said the hatter s a pig queen you can get herself at the hatter oh then a very good of them said alice be had she knew look to her knee and she got up like first time to see the some way in a great but she had no upset them her head to it was the dormouse a voice took the rabbit and still took a little door and she ==================================================\n",
            "Iteration #: 28\n",
            "Epoch 1/1\n",
            "30407/30407 [==============================] - 3s 98us/step - loss: 1.4771\n",
            "Generating from seed: ['the', 'footman', 'and', 'began', 'whistling', 'oh', 'there', 's', 'no', 'use']\n",
            "['the', 'footman', 'and', 'began', 'whistling', 'oh', 'there', 's', 'no', 'use']\n",
            "in such to him said alice and a little idea of the all all her time was were after down away to herself in all no a little other if you re so to make it he is with such i wish what said the gryphon and what was so very soon and as she was not the way of that she spoke but it s went on as she was not the moment as she was nothing about in the duchess and soon just as to be as she was that she had not enough to grow down and ==================================================\n",
            "Iteration #: 29\n",
            "Epoch 1/1\n",
            "30407/30407 [==============================] - 3s 97us/step - loss: 1.4462\n",
            "Generating from seed: ['even', 'in', 'the', 'middle', 'of', 'her', 'favourite', 'word', 'moral', 'and']\n",
            "['even', 'in', 'the', 'middle', 'of', 'her', 'favourite', 'word', 'moral', 'and']\n",
            "the king there was finished than everything and was in in its face she did it makes to her come in the sea of tell you just heard we are about to the dance but it s do no no when to have not like that and the think at any or three looking at the mouse was a good works it the three and up from drew all those the puppy was only in this so she to her eyes on her mind and had was a little glass voice and the laws with that oh a had girl ==================================================\n",
            "Iteration #: 30\n",
            "Epoch 1/1\n",
            " 9216/30407 [========>.....................] - ETA: 2s - loss: 1.3832"
          ],
          "name": "stdout"
        },
        {
          "output_type": "stream",
          "text": [
            "30407/30407 [==============================] - 3s 98us/step - loss: 1.4186\n",
            "Generating from seed: ['the', 'great', 'puzzle', 'and', 'she', 'began', 'thinking', 'over', 'all', 'the']\n",
            "['the', 'great', 'puzzle', 'and', 'she', 'began', 'thinking', 'over', 'all', 'the']\n",
            "children she knew it again of the game when she knew her a nice and then his mouth with her or she had to him it was that tried to come it i m a very tone of me well i am say go she s much a moment she had made a things the voice of her all in their glass and that was you party one for me well and she as it s nothing the queen who of her a well of had got she called that again she was looking for in her in with moment ==================================================\n",
            "Iteration #: 31\n",
            "Epoch 1/1\n",
            "30407/30407 [==============================] - 3s 97us/step - loss: 1.3863\n",
            "Generating from seed: ['with', 'great', 'curiosity', 'it', 's', 'a', 'friend', 'of', 'mine', 'a']\n",
            "['with', 'great', 'curiosity', 'it', 's', 'a', 'friend', 'of', 'mine', 'a']\n",
            "cheshire cat said the march hare in a low same tone said the gryphon i must be come that s said the gryphon perhaps you won t you will said alice a much said alice i don t said do this cat the queen i can t tell you am said to see it i never think so much alice with the trial wonder you come that s a little thing you know of a they plan take so and said the mock turtle after it their her little garden the duchess was very over the took she was no ==================================================\n",
            "Iteration #: 32\n",
            "Epoch 1/1\n",
            "30407/30407 [==============================] - 3s 97us/step - loss: 1.3571\n",
            "Generating from seed: ['to', 'the', 'mock', 'turtle', 'drive', 'on', 'old', 'fellow', 'don', 't']\n",
            "['to', 'the', 'mock', 'turtle', 'drive', 'on', 'old', 'fellow', 'don', 't']\n",
            "dear you think about it and he went on her at all and she went on again for that as she as her as she had not it her side the queen their slates her that they could have would you quite me and then it could keep at all know it i m do you said to be as she thought that you know not charge particular at them as alice could be as anything your that they re "
          ],
          "name": "stdout"
        },
        {
          "output_type": "stream",
          "text": [
            "too back to the gryphon rabbit came that she said alice indignantly down i wonder what to get and then ==================================================\n",
            "Iteration #: 33\n",
            "Epoch 1/1\n",
            "30407/30407 [==============================] - 3s 96us/step - loss: 1.3390\n",
            "Generating from seed: ['lived', 'much', 'under', 'the', 'sea', 'i', 'haven', 't', 'said', 'alice']\n",
            "['lived', 'much', 'under', 'the', 'sea', 'i', 'haven', 't', 'said', 'alice']\n",
            "and perhaps you only never very here and then the first by that and be your use to do you said what as the a little works replied in the air she had was about a the hatter and yet well alice when it very enough to it as perhaps i should do not like the day of any way there they re like to find that then i ve better go to be mine and she could think to get out to the sort there s no answer at alice thought alice and then the cat i never seen ==================================================\n",
            "Iteration #: 34\n",
            "Epoch 1/1\n",
            "30407/30407 [==============================] - 3s 97us/step - loss: 1.3064\n",
            "Generating from seed: ['was', 'all', 'ridges', 'and', 'furrows', 'the', 'balls', 'were', 'live', 'hedgehogs']\n",
            "['was', 'all', 'ridges', 'and', 'furrows', 'the', 'balls', 'were', 'live', 'hedgehogs']\n",
            "the mallets live flamingoes and the soldiers had to double themselves up and to stand on their hands and feet to see the house the chief thing alice looked not alice suddenly in her there s a lobster of everything is off the duchess like a large from the king the foundation was sitting in the project gutenberg tm license full of project gutenberg tm electronic works it was not with this agreement 1 e or the the project gutenberg tm works project gutenberg is of the foundation is ebook work in any 1 e e project gutenberg copyright electronic ==================================================\n",
            "Iteration #: 35\n",
            "Epoch 1/1\n",
            "21504/30407 [====================>.........] - ETA: 0s - loss: 1.2555\b\b\b\b\b\b\b\b\b\b\b\b\b\b\b\b\b\b\b\b\b\b\b\b\b\b\b\b\b\b\b\b\b\b\b\b\b\b\b\b\b\b\b\b\b\b\b\b\b\b\b\b\b\b\b\b\b\b\b\b\b\b\b\b\b\b\b\b\b"
          ],
          "name": "stdout"
        },
        {
          "output_type": "stream",
          "text": [
            "30407/30407 [==============================] - 3s 97us/step - loss: 1.2784\n",
            "Generating from seed: ['united', 'states', '1', 'e', 'unless', 'you', 'have', 'removed', 'all', 'references']\n",
            "['united', 'states', '1', 'e', 'unless', 'you', 'have', 'removed', 'all', 'references']\n",
            "to project gutenberg 1 e 1 the following sentence with active links to or other immediate access to the full project gutenberg tm license are appear created not the public domain to the other chapter with a fee refund is that you terms read the gryphon or project gutenberg tm electronic work to your work of project gutenberg tm you will it is no reading works the united states chapter are the terms of this agreement or with the white domain from you received project gutenberg tm a work is posted with the sea of this project gutenberg tm electronic ==================================================\n",
            "Iteration #: 36\n",
            "Epoch 1/1\n",
            "30407/30407 [==============================] - 3s 97us/step - loss: 1.2550\n",
            "Generating from seed: ['you', 'like', 'said', 'the', 'gryphon', 'do', 'you', 'know', 'why', 'it']\n",
            "['you', 'like', 'said', 'the', 'gryphon', 'do', 'you', 'know', 'why', 'it']\n",
            "s not a tone i never said alice now and it s said at the rabbit s sitting in a lobster and i should put to get them and they were nearly up i can t my do you mean getting well you for me you can t understand the house said the mock turtle angrily on one every thought and that s must be a and yet if i shall do you know the duchess i think said cried alice and she s now about the you don t won the hatter s your majesty thought alice in the ==================================================\n",
            "Iteration #: 37\n",
            "Epoch 1/1\n",
            "30407/30407 [==============================] - 3s 97us/step - loss: 1.2278\n",
            "Generating from seed: ['of', 'sight', 'before', 'the', 'officer', 'could', 'get', 'to', 'the', 'door']\n",
            "['of', 'sight', 'before', 'the', 'officer', 'could', 'get', 'to', 'the', 'door']\n",
            "call the next witness said the king "
          ],
          "name": "stdout"
        },
        {
          "output_type": "stream",
          "text": [
            "the next witness was a three all however she was his very anxiously of her head by little shriek of the court of no one and the gryphon and in her on close being her yes a the glass who and was getting would and this the other was head and found a very little voice over with and there gave that said the hatter thing the hatter then not you tell about and it would be like to they your like you don t think said the hatter remarked talk said the ==================================================\n",
            "Iteration #: 38\n",
            "Epoch 1/1\n",
            "30407/30407 [==============================] - 3s 97us/step - loss: 1.1997\n",
            "Generating from seed: ['the', 'stick', 'running', 'a', 'very', 'little', 'way', 'forwards', 'each', 'time']\n",
            "['the', 'stick', 'running', 'a', 'very', 'little', 'way', 'forwards', 'each', 'time']\n",
            "and a long eyes back and barking hoarsely all the whole thing of not like of do a work or with anything or tell it is this moment to know if you am but she was no after time to find and then they were made of them trying which finger she was not for a moment why she would you do what one of any way in a great larger off so she could been him when i might up in any of things and she was no only in getting by this time went on but when i ==================================================\n",
            "Iteration #: 39\n",
            "Epoch 1/1\n",
            "30407/30407 [==============================] - 3s 97us/step - loss: 1.1843\n",
            "Generating from seed: ['to', 'grow', 'up', 'again', 'let', 'me', 'see', 'how', 'is', 'it']\n",
            "['to', 'grow', 'up', 'again', 'let', 'me', 'see', 'how', 'is', 'it']\n",
            "to be managed i suppose i ought to see me come something me old said the gryphon don t the well i ve got so up and was quite up down to the end of these the other took her paper silence alice that three out of that she i get yes would have no about to look and i should think you see at well as that she be looking for the gryphon by had going back to the mock turtle said the caterpillar said alice alice in a little sides of the duchess turned no would not them ==================================================\n",
            "Iteration #: 40\n",
            "Epoch 1/1\n",
            " 9216/30407 [========>.....................] - ETA: 2s - loss: 1.0865"
          ],
          "name": "stdout"
        },
        {
          "output_type": "stream",
          "text": [
            "30407/30407 [==============================] - 3s 97us/step - loss: 1.1547\n",
            "Generating from seed: ['anxiously', 'round', 'to', 'make', 'out', 'who', 'was', 'talking', 'alice', 'could']\n",
            "['anxiously', 'round', 'to', 'make', 'out', 'who', 'was', 'talking', 'alice', 'could']\n",
            "see out anything that s a little tea of instantly put it and looking then talking to be of for this for she was got alice to the footman and side so first as she got in the same words not just yes you can the the door i can t take his more know the duchess i don t know it what i don t said alice said alice she added to have but i a they s said the hatter said the hatter there would the whole well and alice added in all a pack is what you ==================================================\n",
            "Iteration #: 41\n",
            "Epoch 1/1\n",
            "30407/30407 [==============================] - 3s 97us/step - loss: 1.1183\n",
            "Generating from seed: ['you', 'did', 'said', 'the', 'mock', 'turtle', 'hold', 'your', 'tongue', 'added']\n",
            "['you', 'did', 'said', 'the', 'mock', 'turtle', 'hold', 'your', 'tongue', 'added']\n",
            "the gryphon where it was speak looking the mock turtle went on to into her found in coming at all then minute and then a fan timidly the house as looked she heard had been long much about when her now as for a great or of to the mouse said to this time that you re a bit and the thought as she said the march hare in a minute or two said the gryphon i m not see the right i can t understand remarked you can t be where said for you m a bit said alice ==================================================\n",
            "Iteration #: 42\n",
            "Epoch 1/1\n",
            "30407/30407 [==============================] - 3s 97us/step - loss: 1.1016\n",
            "Generating from seed: ['these', 'three', 'weeks', 'i', 'm', 'very', 'sorry', 'you', 've', 'been']\n",
            "['these', 'three', 'weeks', 'i', 'm', 'very', 'sorry', 'you', 've', 'been']\n",
            "annoyed said alice who was beginning to see its meaning and got at i m do the hatter he but it was much at all rabbit said to dear with the way to to that there s no use of particular such i can tell you can do but how said alice said the like the little thing seemed too watch not this she sort and began that at out there s looked at before but when the king waited do you "
          ],
          "name": "stdout"
        },
        {
          "output_type": "stream",
          "text": [
            "the house and seemed anything the march hare you had to well my when it was more over ==================================================\n",
            "Iteration #: 43\n",
            "Epoch 1/1\n",
            "30407/30407 [==============================] - 3s 97us/step - loss: 1.0797\n",
            "Generating from seed: ['beautiful', 'beautiful', 'soup', 'chapter', 'xi', 'who', 'stole', 'the', 'tarts', 'the']\n",
            "['beautiful', 'beautiful', 'soup', 'chapter', 'xi', 'who', 'stole', 'the', 'tarts', 'the']\n",
            "king and queen of hearts were seated on their throne when they arrived with a great crowd assembled about them all sorts of little children and beasts as well as the whole thing said to the end of in a from but the dodo all first fees that is as the dormouse said nothing as it oh no me enough for it s what such the cat little as the queen of another watch while and in such a tone of of of and said alice and went on in long words the cat on no before at everything about ==================================================\n",
            "Iteration #: 44\n",
            "Epoch 1/1\n",
            "30407/30407 [==============================] - 3s 97us/step - loss: 1.0563\n",
            "Generating from seed: ['thought', 'to', 'herself', 'that', 'perhaps', 'it', 'was', 'only', 'the', 'pepper']\n",
            "['thought', 'to', 'herself', 'that', 'perhaps', 'it', 'was', 'only', 'the', 'pepper']\n",
            "and had made to herself out for her or i ve t think my anything to come then i m through tired this over and then i don t talk up and quite a minute or two his head with help the eyes was going on her and began in the court again of course alice as they puzzled a long why and the well is three before if her so in the hookah and the other beautiful was of the project gutenberg went license works and that to be to you know and that they re of for of ==================================================\n",
            "Iteration #: 45\n",
            "Epoch 1/1\n",
            "17408/30407 [================>.............] - ETA: 1s - loss: 1.0053"
          ],
          "name": "stdout"
        },
        {
          "output_type": "stream",
          "text": [
            "30407/30407 [==============================] - 3s 98us/step - loss: 1.0348\n",
            "Generating from seed: ['of', 'living', 'would', 'be', 'like', 'but', 'it', 'puzzled', 'her', 'too']\n",
            "['of', 'living', 'would', 'be', 'like', 'but', 'it', 'puzzled', 'her', 'too']\n",
            "much so she went on but as do as she she just it eagerly to find the queen but she had to herself down down again and she did it the for her way down she found on her of his voice of now like the she went on you were not than here now is a she said to herself she felt me how to be me for at this time she s a long tone and then by was could round it again i i ve i think you do better said alice i don t talk that ==================================================\n",
            "Iteration #: 46\n",
            "Epoch 1/1\n",
            "30407/30407 [==============================] - 3s 97us/step - loss: 1.0095\n",
            "Generating from seed: ['a', 'little', 'timidly', 'why', 'you', 'are', 'painting', 'those', 'roses', 'five']\n",
            "['a', 'little', 'timidly', 'why', 'you', 'are', 'painting', 'those', 'roses', 'five']\n",
            "and seven said nothing but looked at two two began in a great voice you the fact is the project gutenberg tm electronic works you are not in the project gutenberg tm electronic work comply with all the or of b a terms of project gutenberg tm electronic work you may do you agree to be bound by this terms of this agreement there must have a refund from the cat if you would be a we are you are you you i see it written alice said that i don t i do you mean you know now said ==================================================\n",
            "Iteration #: 47\n",
            "Epoch 1/1\n",
            "30407/30407 [==============================] - 3s 97us/step - loss: 0.9861\n",
            "Generating from seed: ['finished', 'it', 'off', 'what', 'a', 'curious', 'feeling', 'said', 'alice', 'i']\n",
            "['finished', 'it', 'off', 'what', 'a', 'curious', 'feeling', 'said', 'alice', 'i']\n",
            "must be remember here like the mouse and now that as she was such a minute and in the dormouse and came to watch and she to her a in the next and she was his round then and the there when nothing even into the door into and was going on here you till they were your evidence for the white rabbit but in the a tone and it sobs at what "
          ],
          "name": "stdout"
        },
        {
          "output_type": "stream",
          "text": [
            "and he went on in head out sure she had to go for the sea and looked another alice in its more under that dear did the ==================================================\n",
            "Iteration #: 48\n",
            "Epoch 1/1\n",
            "30407/30407 [==============================] - 3s 96us/step - loss: 0.9646\n",
            "Generating from seed: ['beast', 'screamed', 'off', 'with', 'her', 'head', 'off', 'nonsense', 'said', 'alice']\n",
            "['beast', 'screamed', 'off', 'with', 'her', 'head', 'off', 'nonsense', 'said', 'alice']\n",
            "very loudly and decidedly and the king was silent the dormouse laid his hand and alice as she spoke out foot what was were to talk and i think what did not like the cat that as she said to herself she said the cat one had made a moment and went on her there was a glass which in out what or they were it little dream and dormouse a the queen of of the mock turtle which found the same or birds it while it was the hatter alice i never think very curious all the place it ==================================================\n",
            "Iteration #: 49\n",
            "Epoch 1/1\n",
            "30407/30407 [==============================] - 3s 97us/step - loss: 0.9459\n",
            "Generating from seed: ['and', 'i', 'm', 'i', 'and', 'oh', 'dear', 'how', 'puzzling', 'it']\n",
            "['and', 'i', 'm', 'i', 'and', 'oh', 'dear', 'how', 'puzzling', 'it']\n",
            "again said the mock turtle said the duchess looked nearly on a lobsters of verses the hatter of the conversation looked so at once but after her that the spoke and was going quite began and the mock turtle to him which is it o for one of it all of the garden and she ran off her talking to herself ear i don t one head with it at this dear i do alice said to be i m afraid i ll t like you can you see me they got just a low a for their won t "
          ],
          "name": "stdout"
        }
      ]
    },
    {
      "metadata": {
        "id": "e-vYgFZj1YO5",
        "colab_type": "code",
        "colab": {
          "autoexec": {
            "startup": false,
            "wait_interval": 0
          },
          "base_uri": "https://localhost:8080/",
          "height": 34
        },
        "outputId": "6279e561-a6ff-4f75-96d8-e5e0ffd75a63",
        "executionInfo": {
          "status": "ok",
          "timestamp": 1527865360483,
          "user_tz": -330,
          "elapsed": 1095,
          "user": {
            "displayName": "Kishore GCP",
            "photoUrl": "https://lh3.googleusercontent.com/a/default-user=s128",
            "userId": "114953301865800540346"
          }
        }
      },
      "cell_type": "code",
      "source": [
        "for i in range(10):\n",
        "  print(i,end=' ')"
      ],
      "execution_count": 16,
      "outputs": [
        {
          "output_type": "stream",
          "text": [
            "0 1 2 3 4 5 6 7 8 9 "
          ],
          "name": "stdout"
        }
      ]
    },
    {
      "metadata": {
        "id": "gELXQKwV3zvU",
        "colab_type": "code",
        "colab": {
          "autoexec": {
            "startup": false,
            "wait_interval": 0
          }
        }
      },
      "cell_type": "code",
      "source": [
        ""
      ],
      "execution_count": 0,
      "outputs": []
    }
  ]
}